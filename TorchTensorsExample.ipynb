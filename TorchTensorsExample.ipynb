{
 "cells": [
  {
   "cell_type": "code",
   "execution_count": 1,
   "id": "050ee9c7-d18a-49cf-8062-e5507e98e487",
   "metadata": {},
   "outputs": [],
   "source": [
    "import torch\n",
    "import numpy as np"
   ]
  },
  {
   "cell_type": "code",
   "execution_count": 2,
   "id": "645b7781-bbe5-4c72-981d-70cd4ffe6cef",
   "metadata": {},
   "outputs": [
    {
     "name": "stdout",
     "output_type": "stream",
     "text": [
      "tensor([1., 1., 1.])\n"
     ]
    }
   ],
   "source": [
    "a=torch.ones(3)\n",
    "print(a)"
   ]
  },
  {
   "cell_type": "code",
   "execution_count": 3,
   "id": "5a2b9753-c212-4b76-be06-aeb6958e6785",
   "metadata": {},
   "outputs": [
    {
     "data": {
      "text/plain": [
       "tensor([ 1.,  1., 17.])"
      ]
     },
     "execution_count": 3,
     "metadata": {},
     "output_type": "execute_result"
    }
   ],
   "source": [
    "a[2]=17\n",
    "a"
   ]
  },
  {
   "cell_type": "code",
   "execution_count": 5,
   "id": "9b0d98c4-d648-4ee6-8fce-41cd0cc799c5",
   "metadata": {},
   "outputs": [
    {
     "data": {
      "text/plain": [
       "tensor([4., 1., 5., 3., 2., 1.])"
      ]
     },
     "execution_count": 5,
     "metadata": {},
     "output_type": "execute_result"
    }
   ],
   "source": [
    "b=[4.0, 1.0, 5.0, 3.0, 2.0, 1.0]\n",
    "b_t=torch.tensor(b) # t denotes torch tensor\n",
    "b_t"
   ]
  },
  {
   "cell_type": "code",
   "execution_count": 8,
   "id": "b8c96bf7-e355-4fd6-a774-2f1e9e594389",
   "metadata": {},
   "outputs": [
    {
     "name": "stdout",
     "output_type": "stream",
     "text": [
      "torch.Size([3, 2])\n"
     ]
    }
   ],
   "source": [
    "\n",
    "c=[[4.0, 1.0], [5.0, 3.0], [2.0, 1.0]]\n",
    "c_t=torch.tensor(c)\n",
    "print(c_t.shape)"
   ]
  },
  {
   "cell_type": "code",
   "execution_count": 7,
   "id": "d5d32613-3bcc-410d-b734-427d05e6339d",
   "metadata": {},
   "outputs": [
    {
     "name": "stdout",
     "output_type": "stream",
     "text": [
      "tensor([[0., 0.],\n",
      "        [0., 0.],\n",
      "        [0., 0.]])\n"
     ]
    }
   ],
   "source": [
    "d_t=torch.zeros(3, 2)\n",
    "print(d_t)"
   ]
  },
  {
   "cell_type": "code",
   "execution_count": 9,
   "id": "8f2a1bba-2be5-4475-8bc3-6bb86a341106",
   "metadata": {},
   "outputs": [
    {
     "data": {
      "text/plain": [
       "tensor([[ 0., 17.],\n",
       "        [ 0., 14.],\n",
       "        [ 0.,  0.]])"
      ]
     },
     "execution_count": 9,
     "metadata": {},
     "output_type": "execute_result"
    }
   ],
   "source": [
    "d_t[0,1]=17 #sets this value to 17\n",
    "d_t[1,1]=14 #sets this value to 14\n",
    "d_t #prints everything\n"
   ]
  },
  {
   "cell_type": "code",
   "execution_count": 10,
   "id": "bf280717-e3cf-45ff-a31d-8e99244af412",
   "metadata": {},
   "outputs": [
    {
     "data": {
      "text/plain": [
       "tensor([ 0., 14.])"
      ]
     },
     "execution_count": 10,
     "metadata": {},
     "output_type": "execute_result"
    }
   ],
   "source": [
    "#slice out the second row only\n",
    "d_t[1]"
   ]
  },
  {
   "cell_type": "code",
   "execution_count": 11,
   "id": "a60bda01-2563-44bd-b9a6-9642a76b5853",
   "metadata": {},
   "outputs": [
    {
     "data": {
      "text/plain": [
       "torch.Size([3, 2])"
      ]
     },
     "execution_count": 11,
     "metadata": {},
     "output_type": "execute_result"
    }
   ],
   "source": [
    "#turn a matrix from a 2D matrix into a 3D matrix\n",
    "#can be used when malong a multiplication of one tensor to another tensor\n",
    "#print out the shape first\n",
    "d_t.shape"
   ]
  },
  {
   "cell_type": "code",
   "execution_count": 12,
   "id": "a9fc5de6-bc8f-446f-b255-fe10693098fd",
   "metadata": {},
   "outputs": [
    {
     "data": {
      "text/plain": [
       "torch.Size([3, 2, 1])"
      ]
     },
     "execution_count": 12,
     "metadata": {},
     "output_type": "execute_result"
    }
   ],
   "source": [
    "#three dots means we are creating a new dimension and for it to figure it out, we are creating a new dimension named \"None\"\n",
    "d_t_unsqueeze =d_t[...,None]\n",
    "d_t_unsqueeze.shape \n",
    "#you can also move it to the other size by putting d_t[None, ...] which would put th enew dimension agead fo the other ones"
   ]
  },
  {
   "cell_type": "code",
   "execution_count": 13,
   "id": "da5a5919-eabf-4eed-aa89-6f962c8bbaf3",
   "metadata": {},
   "outputs": [
    {
     "data": {
      "text/plain": [
       "torch.Size([2, 3, 32, 32])"
      ]
     },
     "execution_count": 13,
     "metadata": {},
     "output_type": "execute_result"
    }
   ],
   "source": [
    "# a tensor with 4 dimension, to assume we have images in color and we will feed batches of a certain size into our ML\n",
    "batch_t=torch.randn(2, 3, 32, 32) #randn gives random numbers\n",
    "#batch_t=torch.randn(# batches (samples), channels for RGB, size of grid in rows (32), columns(32)\n",
    "## we want to do it in batches so we do not overun the RAM, the more comuputing power you have the larger these can be\n",
    "batch_t.shape"
   ]
  },
  {
   "cell_type": "code",
   "execution_count": 14,
   "id": "9d6b98eb-e30f-4d3b-b4ae-efeae97ad40d",
   "metadata": {},
   "outputs": [
    {
     "data": {
      "text/plain": [
       "torch.float64"
      ]
     },
     "execution_count": 14,
     "metadata": {},
     "output_type": "execute_result"
    }
   ],
   "source": [
    "double_points=torch.ones(10,2, dtype=torch.double)\n",
    "double_points.dtype\n",
    "# data type is important in this"
   ]
  },
  {
   "cell_type": "code",
   "execution_count": 16,
   "id": "479ce9a6-462a-4266-a6bf-5243d408d6cd",
   "metadata": {},
   "outputs": [
    {
     "data": {
      "text/plain": [
       "tensor([[1., 1., 1., 1.],\n",
       "        [1., 1., 1., 1.],\n",
       "        [1., 1., 1., 1.]])"
      ]
     },
     "execution_count": 16,
     "metadata": {},
     "output_type": "execute_result"
    }
   ],
   "source": [
    "#numpy has interoperability meaning going from a torch tensor to a numpy something quickly to quantify performance,\n",
    "#sklearn would be easier to use in this instance of visual performance, but sklearn only works with numpy so you would go from torch to numpy\n",
    "#to go from torch to numpy:\n",
    "points=torch.ones(3, 4)\n",
    "points "
   ]
  },
  {
   "cell_type": "code",
   "execution_count": 17,
   "id": "0a3ef8e9-2964-4939-824c-f0d3e805ed15",
   "metadata": {},
   "outputs": [
    {
     "data": {
      "text/plain": [
       "array([[1., 1., 1., 1.],\n",
       "       [1., 1., 1., 1.],\n",
       "       [1., 1., 1., 1.]], dtype=float32)"
      ]
     },
     "execution_count": 17,
     "metadata": {},
     "output_type": "execute_result"
    }
   ],
   "source": [
    "points_np= points.numpy() #np to remind you it is a numpy array\n",
    "points_np\n",
    "#you can see below that it is now an array instead of a tensor"
   ]
  },
  {
   "cell_type": "code",
   "execution_count": 18,
   "id": "c3b255b4-3aeb-45dc-a724-9a463ffd7b81",
   "metadata": {},
   "outputs": [
    {
     "data": {
      "text/plain": [
       "tensor([[1., 1., 1., 1.],\n",
       "        [1., 1., 1., 1.],\n",
       "        [1., 1., 1., 1.]])"
      ]
     },
     "execution_count": 18,
     "metadata": {},
     "output_type": "execute_result"
    }
   ],
   "source": [
    "#to go back to a tensor:\n",
    "points_t=torch.from_numpy(points_np)\n",
    "points_t\n",
    "#notice it is now a tensor again"
   ]
  },
  {
   "cell_type": "code",
   "execution_count": null,
   "id": "c71db4bd-bcd5-4610-b498-5d633d82f347",
   "metadata": {},
   "outputs": [],
   "source": []
  }
 ],
 "metadata": {
  "kernelspec": {
   "display_name": "Python 3 (ipykernel)",
   "language": "python",
   "name": "python3"
  },
  "language_info": {
   "codemirror_mode": {
    "name": "ipython",
    "version": 3
   },
   "file_extension": ".py",
   "mimetype": "text/x-python",
   "name": "python",
   "nbconvert_exporter": "python",
   "pygments_lexer": "ipython3",
   "version": "3.11.4"
  }
 },
 "nbformat": 4,
 "nbformat_minor": 5
}
