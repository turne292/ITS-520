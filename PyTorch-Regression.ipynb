{
 "cells": [
  {
   "cell_type": "markdown",
   "id": "6a0e82b0",
   "metadata": {},
   "source": [
    "## Libraries"
   ]
  },
  {
   "cell_type": "code",
   "execution_count": 351,
   "id": "29bfbe31",
   "metadata": {},
   "outputs": [
    {
     "name": "stdout",
     "output_type": "stream",
     "text": [
      "Collecting onnx\n",
      "  Obtaining dependency information for onnx from https://files.pythonhosted.org/packages/03/49/7263b3806ffebd3c967341986df32a5e62b2fa78beca2cdf9516d876b3fc/onnx-1.14.1-cp311-cp311-win_amd64.whl.metadata\n",
      "  Downloading onnx-1.14.1-cp311-cp311-win_amd64.whl.metadata (15 kB)\n",
      "Requirement already satisfied: numpy in c:\\users\\danda\\anaconda3\\lib\\site-packages (from onnx) (1.24.3)\n",
      "Collecting protobuf>=3.20.2 (from onnx)\n",
      "  Obtaining dependency information for protobuf>=3.20.2 from https://files.pythonhosted.org/packages/c2/59/f89c04923d68595d359f4cd7adbbdf5e5d791257945f8873d88b2fd1f979/protobuf-4.24.4-cp310-abi3-win_amd64.whl.metadata\n",
      "  Downloading protobuf-4.24.4-cp310-abi3-win_amd64.whl.metadata (540 bytes)\n",
      "Requirement already satisfied: typing-extensions>=3.6.2.1 in c:\\users\\danda\\anaconda3\\lib\\site-packages (from onnx) (4.7.1)\n",
      "Downloading onnx-1.14.1-cp311-cp311-win_amd64.whl (13.3 MB)\n",
      "   ---------------------------------------- 0.0/13.3 MB ? eta -:--:--\n",
      "    --------------------------------------- 0.2/13.3 MB 4.7 MB/s eta 0:00:03\n",
      "   - -------------------------------------- 0.5/13.3 MB 6.7 MB/s eta 0:00:02\n",
      "   --- ------------------------------------ 1.1/13.3 MB 8.4 MB/s eta 0:00:02\n",
      "   ---- ----------------------------------- 1.6/13.3 MB 9.4 MB/s eta 0:00:02\n",
      "   ------ --------------------------------- 2.1/13.3 MB 10.4 MB/s eta 0:00:02\n",
      "   -------- ------------------------------- 2.7/13.3 MB 10.6 MB/s eta 0:00:01\n",
      "   --------- ------------------------------ 3.2/13.3 MB 10.8 MB/s eta 0:00:01\n",
      "   ----------- ---------------------------- 4.0/13.3 MB 11.6 MB/s eta 0:00:01\n",
      "   ------------- -------------------------- 4.5/13.3 MB 11.6 MB/s eta 0:00:01\n",
      "   --------------- ------------------------ 5.1/13.3 MB 12.1 MB/s eta 0:00:01\n",
      "   ---------------- ----------------------- 5.6/13.3 MB 12.0 MB/s eta 0:00:01\n",
      "   ------------------ --------------------- 6.1/13.3 MB 11.9 MB/s eta 0:00:01\n",
      "   ------------------- -------------------- 6.6/13.3 MB 12.1 MB/s eta 0:00:01\n",
      "   --------------------- ------------------ 7.1/13.3 MB 12.0 MB/s eta 0:00:01\n",
      "   ----------------------- ---------------- 7.7/13.3 MB 12.4 MB/s eta 0:00:01\n",
      "   ------------------------- -------------- 8.3/13.3 MB 12.4 MB/s eta 0:00:01\n",
      "   -------------------------- ------------- 8.9/13.3 MB 12.3 MB/s eta 0:00:01\n",
      "   --------------------------- ------------ 9.0/13.3 MB 12.0 MB/s eta 0:00:01\n",
      "   --------------------------- ------------ 9.0/13.3 MB 12.0 MB/s eta 0:00:01\n",
      "   ---------------------------- ----------- 9.5/13.3 MB 11.3 MB/s eta 0:00:01\n",
      "   ------------------------------ --------- 10.1/13.3 MB 11.3 MB/s eta 0:00:01\n",
      "   ------------------------------- -------- 10.6/13.3 MB 11.9 MB/s eta 0:00:01\n",
      "   --------------------------------- ------ 11.1/13.3 MB 11.9 MB/s eta 0:00:01\n",
      "   ----------------------------------- ---- 11.6/13.3 MB 11.9 MB/s eta 0:00:01\n",
      "   ------------------------------------ --- 12.2/13.3 MB 12.1 MB/s eta 0:00:01\n",
      "   -------------------------------------- - 12.7/13.3 MB 11.9 MB/s eta 0:00:01\n",
      "   ---------------------------------------  13.1/13.3 MB 11.7 MB/s eta 0:00:01\n",
      "   ---------------------------------------  13.3/13.3 MB 11.7 MB/s eta 0:00:01\n",
      "   ---------------------------------------  13.3/13.3 MB 11.7 MB/s eta 0:00:01\n",
      "   ---------------------------------------- 13.3/13.3 MB 10.7 MB/s eta 0:00:00\n",
      "Downloading protobuf-4.24.4-cp310-abi3-win_amd64.whl (430 kB)\n",
      "   ---------------------------------------- 0.0/430.5 kB ? eta -:--:--\n",
      "   --------------------------------------- 430.5/430.5 kB 13.6 MB/s eta 0:00:00\n",
      "Installing collected packages: protobuf, onnx\n",
      "Successfully installed onnx-1.14.1 protobuf-4.24.4\n"
     ]
    }
   ],
   "source": [
    " ! pip install onnx"
   ]
  },
  {
   "cell_type": "code",
   "execution_count": 3,
   "id": "db12c339",
   "metadata": {},
   "outputs": [],
   "source": [
    "import numpy as np\n",
    "import torch\n",
    "import pandas as pd\n",
    "import sklearn\n",
    "import random #for splitting\n",
    "\n",
    "#for building the NN\n",
    "import torch.nn as nn\n",
    "import torch.nn.functional as F\n",
    "import torch.optim as optim"
   ]
  },
  {
   "cell_type": "code",
   "execution_count": 271,
   "id": "a3133639",
   "metadata": {},
   "outputs": [],
   "source": [
    "#for the correlation matrix\n",
    "from mlxtend.plotting import heatmap\n",
    "#to show the correlation matrix\n",
    "import matplotlib.pyplot as plt\n",
    "#for splitting training and testing data\n",
    "from sklearn.model_selection import train_test_split\n",
    "#for data loader\n",
    "from torch.utils.data import TensorDataset, DataLoader\n",
    "#coeficient of determination only allows numpy as an input\n",
    "from sklearn.metrics import r2_score\n",
    "\n",
    "import xgboost as xgb\n",
    "from sklearn.ensemble import RandomForestRegressor\n"
   ]
  },
  {
   "cell_type": "markdown",
   "id": "22a68cc1",
   "metadata": {},
   "source": [
    "## Parameters"
   ]
  },
  {
   "cell_type": "code",
   "execution_count": 281,
   "id": "9f0b8812",
   "metadata": {},
   "outputs": [],
   "source": [
    "batch_size=16\n",
    "learning_rate=0.001 #this can be changed to make the model better \n",
    "N_Epochs=500\n",
    "epsilon= 0.0001"
   ]
  },
  {
   "cell_type": "code",
   "execution_count": null,
   "id": "ceb5a4ca",
   "metadata": {},
   "outputs": [],
   "source": []
  },
  {
   "cell_type": "markdown",
   "id": "b15fd229",
   "metadata": {},
   "source": [
    "## Read Data"
   ]
  },
  {
   "cell_type": "code",
   "execution_count": 282,
   "id": "434d3cf8",
   "metadata": {},
   "outputs": [],
   "source": [
    "#create pandas dataset with raw csv data\n",
    "path_data='C:/Users/danda/Desktop/ITS 520/PyTorch-main/basics/data/data/winequality-white.csv'\n",
    "WINE_raw_data = pd.read_csv(path_data, delimiter=';')\n"
   ]
  },
  {
   "cell_type": "code",
   "execution_count": 283,
   "id": "a19833d3",
   "metadata": {},
   "outputs": [
    {
     "data": {
      "text/html": [
       "<div>\n",
       "<style scoped>\n",
       "    .dataframe tbody tr th:only-of-type {\n",
       "        vertical-align: middle;\n",
       "    }\n",
       "\n",
       "    .dataframe tbody tr th {\n",
       "        vertical-align: top;\n",
       "    }\n",
       "\n",
       "    .dataframe thead th {\n",
       "        text-align: right;\n",
       "    }\n",
       "</style>\n",
       "<table border=\"1\" class=\"dataframe\">\n",
       "  <thead>\n",
       "    <tr style=\"text-align: right;\">\n",
       "      <th></th>\n",
       "      <th>fixed acidity</th>\n",
       "      <th>volatile acidity</th>\n",
       "      <th>citric acid</th>\n",
       "      <th>residual sugar</th>\n",
       "      <th>chlorides</th>\n",
       "      <th>free sulfur dioxide</th>\n",
       "      <th>total sulfur dioxide</th>\n",
       "      <th>density</th>\n",
       "      <th>pH</th>\n",
       "      <th>sulphates</th>\n",
       "      <th>alcohol</th>\n",
       "      <th>quality</th>\n",
       "    </tr>\n",
       "  </thead>\n",
       "  <tbody>\n",
       "    <tr>\n",
       "      <th>0</th>\n",
       "      <td>7.0</td>\n",
       "      <td>0.27</td>\n",
       "      <td>0.36</td>\n",
       "      <td>20.7</td>\n",
       "      <td>0.045</td>\n",
       "      <td>45.0</td>\n",
       "      <td>170.0</td>\n",
       "      <td>1.00100</td>\n",
       "      <td>3.00</td>\n",
       "      <td>0.45</td>\n",
       "      <td>8.8</td>\n",
       "      <td>6</td>\n",
       "    </tr>\n",
       "    <tr>\n",
       "      <th>1</th>\n",
       "      <td>6.3</td>\n",
       "      <td>0.30</td>\n",
       "      <td>0.34</td>\n",
       "      <td>1.6</td>\n",
       "      <td>0.049</td>\n",
       "      <td>14.0</td>\n",
       "      <td>132.0</td>\n",
       "      <td>0.99400</td>\n",
       "      <td>3.30</td>\n",
       "      <td>0.49</td>\n",
       "      <td>9.5</td>\n",
       "      <td>6</td>\n",
       "    </tr>\n",
       "    <tr>\n",
       "      <th>2</th>\n",
       "      <td>8.1</td>\n",
       "      <td>0.28</td>\n",
       "      <td>0.40</td>\n",
       "      <td>6.9</td>\n",
       "      <td>0.050</td>\n",
       "      <td>30.0</td>\n",
       "      <td>97.0</td>\n",
       "      <td>0.99510</td>\n",
       "      <td>3.26</td>\n",
       "      <td>0.44</td>\n",
       "      <td>10.1</td>\n",
       "      <td>6</td>\n",
       "    </tr>\n",
       "    <tr>\n",
       "      <th>3</th>\n",
       "      <td>7.2</td>\n",
       "      <td>0.23</td>\n",
       "      <td>0.32</td>\n",
       "      <td>8.5</td>\n",
       "      <td>0.058</td>\n",
       "      <td>47.0</td>\n",
       "      <td>186.0</td>\n",
       "      <td>0.99560</td>\n",
       "      <td>3.19</td>\n",
       "      <td>0.40</td>\n",
       "      <td>9.9</td>\n",
       "      <td>6</td>\n",
       "    </tr>\n",
       "    <tr>\n",
       "      <th>4</th>\n",
       "      <td>7.2</td>\n",
       "      <td>0.23</td>\n",
       "      <td>0.32</td>\n",
       "      <td>8.5</td>\n",
       "      <td>0.058</td>\n",
       "      <td>47.0</td>\n",
       "      <td>186.0</td>\n",
       "      <td>0.99560</td>\n",
       "      <td>3.19</td>\n",
       "      <td>0.40</td>\n",
       "      <td>9.9</td>\n",
       "      <td>6</td>\n",
       "    </tr>\n",
       "    <tr>\n",
       "      <th>...</th>\n",
       "      <td>...</td>\n",
       "      <td>...</td>\n",
       "      <td>...</td>\n",
       "      <td>...</td>\n",
       "      <td>...</td>\n",
       "      <td>...</td>\n",
       "      <td>...</td>\n",
       "      <td>...</td>\n",
       "      <td>...</td>\n",
       "      <td>...</td>\n",
       "      <td>...</td>\n",
       "      <td>...</td>\n",
       "    </tr>\n",
       "    <tr>\n",
       "      <th>4893</th>\n",
       "      <td>6.2</td>\n",
       "      <td>0.21</td>\n",
       "      <td>0.29</td>\n",
       "      <td>1.6</td>\n",
       "      <td>0.039</td>\n",
       "      <td>24.0</td>\n",
       "      <td>92.0</td>\n",
       "      <td>0.99114</td>\n",
       "      <td>3.27</td>\n",
       "      <td>0.50</td>\n",
       "      <td>11.2</td>\n",
       "      <td>6</td>\n",
       "    </tr>\n",
       "    <tr>\n",
       "      <th>4894</th>\n",
       "      <td>6.6</td>\n",
       "      <td>0.32</td>\n",
       "      <td>0.36</td>\n",
       "      <td>8.0</td>\n",
       "      <td>0.047</td>\n",
       "      <td>57.0</td>\n",
       "      <td>168.0</td>\n",
       "      <td>0.99490</td>\n",
       "      <td>3.15</td>\n",
       "      <td>0.46</td>\n",
       "      <td>9.6</td>\n",
       "      <td>5</td>\n",
       "    </tr>\n",
       "    <tr>\n",
       "      <th>4895</th>\n",
       "      <td>6.5</td>\n",
       "      <td>0.24</td>\n",
       "      <td>0.19</td>\n",
       "      <td>1.2</td>\n",
       "      <td>0.041</td>\n",
       "      <td>30.0</td>\n",
       "      <td>111.0</td>\n",
       "      <td>0.99254</td>\n",
       "      <td>2.99</td>\n",
       "      <td>0.46</td>\n",
       "      <td>9.4</td>\n",
       "      <td>6</td>\n",
       "    </tr>\n",
       "    <tr>\n",
       "      <th>4896</th>\n",
       "      <td>5.5</td>\n",
       "      <td>0.29</td>\n",
       "      <td>0.30</td>\n",
       "      <td>1.1</td>\n",
       "      <td>0.022</td>\n",
       "      <td>20.0</td>\n",
       "      <td>110.0</td>\n",
       "      <td>0.98869</td>\n",
       "      <td>3.34</td>\n",
       "      <td>0.38</td>\n",
       "      <td>12.8</td>\n",
       "      <td>7</td>\n",
       "    </tr>\n",
       "    <tr>\n",
       "      <th>4897</th>\n",
       "      <td>6.0</td>\n",
       "      <td>0.21</td>\n",
       "      <td>0.38</td>\n",
       "      <td>0.8</td>\n",
       "      <td>0.020</td>\n",
       "      <td>22.0</td>\n",
       "      <td>98.0</td>\n",
       "      <td>0.98941</td>\n",
       "      <td>3.26</td>\n",
       "      <td>0.32</td>\n",
       "      <td>11.8</td>\n",
       "      <td>6</td>\n",
       "    </tr>\n",
       "  </tbody>\n",
       "</table>\n",
       "<p>4898 rows × 12 columns</p>\n",
       "</div>"
      ],
      "text/plain": [
       "      fixed acidity  volatile acidity  citric acid  residual sugar  chlorides  \\\n",
       "0               7.0              0.27         0.36            20.7      0.045   \n",
       "1               6.3              0.30         0.34             1.6      0.049   \n",
       "2               8.1              0.28         0.40             6.9      0.050   \n",
       "3               7.2              0.23         0.32             8.5      0.058   \n",
       "4               7.2              0.23         0.32             8.5      0.058   \n",
       "...             ...               ...          ...             ...        ...   \n",
       "4893            6.2              0.21         0.29             1.6      0.039   \n",
       "4894            6.6              0.32         0.36             8.0      0.047   \n",
       "4895            6.5              0.24         0.19             1.2      0.041   \n",
       "4896            5.5              0.29         0.30             1.1      0.022   \n",
       "4897            6.0              0.21         0.38             0.8      0.020   \n",
       "\n",
       "      free sulfur dioxide  total sulfur dioxide  density    pH  sulphates  \\\n",
       "0                    45.0                 170.0  1.00100  3.00       0.45   \n",
       "1                    14.0                 132.0  0.99400  3.30       0.49   \n",
       "2                    30.0                  97.0  0.99510  3.26       0.44   \n",
       "3                    47.0                 186.0  0.99560  3.19       0.40   \n",
       "4                    47.0                 186.0  0.99560  3.19       0.40   \n",
       "...                   ...                   ...      ...   ...        ...   \n",
       "4893                 24.0                  92.0  0.99114  3.27       0.50   \n",
       "4894                 57.0                 168.0  0.99490  3.15       0.46   \n",
       "4895                 30.0                 111.0  0.99254  2.99       0.46   \n",
       "4896                 20.0                 110.0  0.98869  3.34       0.38   \n",
       "4897                 22.0                  98.0  0.98941  3.26       0.32   \n",
       "\n",
       "      alcohol  quality  \n",
       "0         8.8        6  \n",
       "1         9.5        6  \n",
       "2        10.1        6  \n",
       "3         9.9        6  \n",
       "4         9.9        6  \n",
       "...       ...      ...  \n",
       "4893     11.2        6  \n",
       "4894      9.6        5  \n",
       "4895      9.4        6  \n",
       "4896     12.8        7  \n",
       "4897     11.8        6  \n",
       "\n",
       "[4898 rows x 12 columns]"
      ]
     },
     "execution_count": 283,
     "metadata": {},
     "output_type": "execute_result"
    }
   ],
   "source": [
    "WINE_raw_data"
   ]
  },
  {
   "cell_type": "code",
   "execution_count": 284,
   "id": "ff498e43",
   "metadata": {},
   "outputs": [
    {
     "data": {
      "text/plain": [
       "['fixed acidity',\n",
       " 'volatile acidity',\n",
       " 'citric acid',\n",
       " 'residual sugar',\n",
       " 'chlorides',\n",
       " 'free sulfur dioxide',\n",
       " 'total sulfur dioxide',\n",
       " 'density',\n",
       " 'pH',\n",
       " 'sulphates',\n",
       " 'alcohol',\n",
       " 'quality']"
      ]
     },
     "execution_count": 284,
     "metadata": {},
     "output_type": "execute_result"
    }
   ],
   "source": [
    "#set the column names into a list of headers\n",
    "headers_list=WINE_raw_data.columns.values.tolist()\n",
    "headers_list"
   ]
  },
  {
   "cell_type": "code",
   "execution_count": 285,
   "id": "f6a693ad",
   "metadata": {},
   "outputs": [],
   "source": [
    "headers_list2=['density',\n",
    " 'pH',\n",
    " 'sulphates',\n",
    " 'alcohol',\n",
    " 'quality']"
   ]
  },
  {
   "cell_type": "markdown",
   "id": "f2810370",
   "metadata": {},
   "source": [
    "## Data Analysis\n",
    "* Correlation Matrix"
   ]
  },
  {
   "cell_type": "code",
   "execution_count": 286,
   "id": "63ab823b",
   "metadata": {},
   "outputs": [
    {
     "data": {
      "image/png": "[encoded data removed]",
      "text/plain": [
       "<Figure size 2000x1000 with 2 Axes>"
      ]
     },
     "metadata": {},
     "output_type": "display_data"
    }
   ],
   "source": [
    "#creating the correlation matrix with the wine data\n",
    "cm=np.corrcoef(WINE_raw_data[headers_list].values.T)\n",
    "#creats the heatmap\n",
    "hm=heatmap(cm, row_names=headers_list, column_names=headers_list, figsize=(20,10))\n",
    "#shows the plot\n",
    "plt.show()"
   ]
  },
  {
   "cell_type": "markdown",
   "id": "d6e0fae8",
   "metadata": {},
   "source": [
    "## Process Data"
   ]
  },
  {
   "cell_type": "code",
   "execution_count": 287,
   "id": "66e7f49d",
   "metadata": {},
   "outputs": [],
   "source": [
    "## Convert Pandas data to Numpy\n",
    "WINE_raw_data_NP=WINE_raw_data.to_numpy()"
   ]
  },
  {
   "cell_type": "code",
   "execution_count": 288,
   "id": "48064999",
   "metadata": {},
   "outputs": [
    {
     "data": {
      "text/plain": [
       "(4898, 12)"
      ]
     },
     "execution_count": 288,
     "metadata": {},
     "output_type": "execute_result"
    }
   ],
   "source": [
    "WINE_raw_data_NP.shape\n"
   ]
  },
  {
   "cell_type": "code",
   "execution_count": 289,
   "id": "d277c9b5",
   "metadata": {},
   "outputs": [
    {
     "name": "stdout",
     "output_type": "stream",
     "text": [
      "(4898, 11)\n",
      "(4898, 1)\n"
     ]
    }
   ],
   "source": [
    "#seperate the X (input) and y (output) data \n",
    "X=WINE_raw_data_NP[:, 0:-1] #could be [:, [1, 2, 3]]#if you want the a specific three rows as inputs\n",
    "y=WINE_raw_data_NP[:, -1:] #could be [:, [-2, -1]] if you want the last two rows as outputs, add colon at end to show 1\n",
    "print(X.shape)\n",
    "print(y.shape)"
   ]
  },
  {
   "cell_type": "code",
   "execution_count": 320,
   "id": "a829e599",
   "metadata": {},
   "outputs": [],
   "source": [
    "random_seed= int(random.random()*100)  #sets the seed to change everytime you run"
   ]
  },
  {
   "cell_type": "code",
   "execution_count": 321,
   "id": "79925a51",
   "metadata": {},
   "outputs": [],
   "source": [
    "#split into training and testing data\n",
    "X_train, X_test, y_train, y_test= train_test_split(X, y, test_size=0.2, random_state=random_seed)#test size is percentage"
   ]
  },
  {
   "cell_type": "code",
   "execution_count": 322,
   "id": "2289c876",
   "metadata": {},
   "outputs": [
    {
     "name": "stdout",
     "output_type": "stream",
     "text": [
      "(3918, 11)\n",
      "(980, 11)\n",
      "(3918, 1)\n",
      "(980, 1)\n"
     ]
    }
   ],
   "source": [
    "print(X_train.shape)\n",
    "print(X_test.shape)\n",
    "print(y_train.shape)\n",
    "print(y_test.shape)"
   ]
  },
  {
   "cell_type": "markdown",
   "id": "d2609c35",
   "metadata": {},
   "source": [
    "## Torch float 64 fix"
   ]
  },
  {
   "cell_type": "code",
   "execution_count": 323,
   "id": "1b2d2b4f",
   "metadata": {},
   "outputs": [],
   "source": [
    "#torch does not like some things, so you have to fix\n",
    "#doesn't like float64, so set to float 32\n",
    "X_train=X_train.astype(np.float32)\n",
    "X_test=X_test.astype(np.float32)\n",
    "y_train=y_train.astype(np.float32)\n",
    "y_test=y_test.astype(np.float32)"
   ]
  },
  {
   "cell_type": "code",
   "execution_count": 324,
   "id": "b8a5bbb7",
   "metadata": {},
   "outputs": [],
   "source": [
    "#turn numpy data into torch data\n",
    "X_train_tr=torch.from_numpy(X_train)\n",
    "X_test_tr=torch.from_numpy(X_test)\n",
    "y_train_tr=torch.from_numpy(y_train)\n",
    "y_test_tr=torch.from_numpy(y_test)"
   ]
  },
  {
   "cell_type": "markdown",
   "id": "3846bde4",
   "metadata": {},
   "source": [
    "## Normalization\n",
    "* Normalization \n",
    "* Standardization (prefered implementation)"
   ]
  },
  {
   "cell_type": "code",
   "execution_count": 325,
   "id": "34f520c2",
   "metadata": {},
   "outputs": [],
   "source": [
    "x_means= X_train_tr.mean(0, keepdim=True)\n",
    "x_deviations = X_train_tr.std(0, keepdim=True)+ epsilon"
   ]
  },
  {
   "cell_type": "code",
   "execution_count": 326,
   "id": "5a092932",
   "metadata": {},
   "outputs": [
    {
     "data": {
      "text/plain": [
       "tensor([[6.8602e+00, 2.7895e-01, 3.3329e-01, 6.3923e+00, 4.5649e-02, 3.5152e+01,\n",
       "         1.3797e+02, 9.9403e-01, 3.1879e+00, 4.8887e-01, 1.0514e+01]])"
      ]
     },
     "execution_count": 326,
     "metadata": {},
     "output_type": "execute_result"
    }
   ],
   "source": [
    "x_means"
   ]
  },
  {
   "cell_type": "code",
   "execution_count": 327,
   "id": "58dbd820",
   "metadata": {},
   "outputs": [
    {
     "data": {
      "text/plain": [
       "tensor([[8.5066e-01, 1.0080e-01, 1.2110e-01, 4.9861e+00, 2.1790e-02, 1.6840e+01,\n",
       "         4.2417e+01, 3.0176e-03, 1.5030e-01, 1.1394e-01, 1.2278e+00]])"
      ]
     },
     "execution_count": 327,
     "metadata": {},
     "output_type": "execute_result"
    }
   ],
   "source": [
    "x_deviations"
   ]
  },
  {
   "cell_type": "code",
   "execution_count": null,
   "id": "99ec1723",
   "metadata": {},
   "outputs": [],
   "source": []
  },
  {
   "cell_type": "markdown",
   "id": "0e7bc03f",
   "metadata": {},
   "source": [
    "## Create the DataLoader"
   ]
  },
  {
   "cell_type": "code",
   "execution_count": 328,
   "id": "5fb009f2",
   "metadata": {},
   "outputs": [],
   "source": [
    "#creating the dataloader training data\n",
    "train_ds=TensorDataset(X_train_tr, y_train_tr)"
   ]
  },
  {
   "cell_type": "code",
   "execution_count": 329,
   "id": "37966dc0",
   "metadata": {},
   "outputs": [],
   "source": [
    "#creating the data loader \n",
    "train_dl=DataLoader(train_ds, batch_size, shuffle=True)"
   ]
  },
  {
   "cell_type": "code",
   "execution_count": 330,
   "id": "094aa5b9",
   "metadata": {},
   "outputs": [
    {
     "data": {
      "text/plain": [
       "<torch.utils.data.dataloader.DataLoader at 0x1c54f194310>"
      ]
     },
     "execution_count": 330,
     "metadata": {},
     "output_type": "execute_result"
    }
   ],
   "source": [
    "train_dl"
   ]
  },
  {
   "cell_type": "markdown",
   "id": "1a9a67cf",
   "metadata": {},
   "source": [
    "## Neural Network Architectures"
   ]
  },
  {
   "cell_type": "code",
   "execution_count": 331,
   "id": "2e084ecc",
   "metadata": {},
   "outputs": [],
   "source": [
    "## Linear Regression\n",
    "#this is not a neural network, it juest helps explain the layers\n",
    "#this is the inference function\n",
    "class LinRegNet(nn.Module):\n",
    "    # initialize the class\n",
    "    def __init__(self, x_means, x_deviations):\n",
    "        super().__init__() #initilizes the functions of the class being inherited\n",
    "        self.x_means=x_means\n",
    "        self.x_deviations=x_deviations\n",
    "        #self.linear1=nn.Linear(#feature value of each vector( 11), #num output columns (1) ) #defining the architecture\n",
    "        self.linear1=nn.Linear(11, 1)\n",
    "    #perform inference\n",
    "    def forward(self, x):\n",
    "        #standardization equation\n",
    "        x=(x - self.x_means)/self.x_deviations\n",
    "        y_pred=self.linear1(x)\n",
    "        return y_pred"
   ]
  },
  {
   "cell_type": "code",
   "execution_count": 332,
   "id": "95b88d2b",
   "metadata": {},
   "outputs": [],
   "source": [
    "##MLP stands for multilayer perceptor \n",
    "#first official neural network\n",
    "#this is similar to linear regression but it has a hidden layer inbetween the input and output\n",
    "#usually the size of the hidden layer is smaller than the input but bigger than output layer\n",
    "#in this instance out input is 11, output is 1, and hidden layer is 8\n",
    "#all 11 inputs are put into an activation function 8 times (as many times as the size of hidden layer), the hidden layer \n",
    "#values are then processed into one output into the true output layer\n",
    "#we will use a sigmoid value (a value between 0 and 1) for the hidden layer\n",
    "#linear returns a straight line, and an MLP can return more than just a straight line\n",
    "class MLP_Net(nn.Module):\n",
    "    # initialize the class\n",
    "    def __init__(self, x_means, x_deviations):\n",
    "        super().__init__() #initilizes the functions of the class being inherited\n",
    "        self.x_means=x_means\n",
    "        self.x_deviations=x_deviations\n",
    "        #self.linear1=nn.Linear(#feature value of each vector( 11), #num hidden layer columns (1) ) #defining the architecture\n",
    "        self.linear1=nn.Linear(11, 8)\n",
    "        self.act1=nn.Sigmoid() #the activation function between the layers\n",
    "        self.linear2=nn.Linear(8, 1)\n",
    "        #dropout can be used to make a model better\n",
    "        self.dropout=nn.Dropout(0.25)#drops out 25% of all connections so 6 paths instead of 8 and the connection that drops changes every iteration\n",
    "    #perform inference\n",
    "    def forward(self, x):\n",
    "        #standardization equation\n",
    "        x=(x - self.x_means)/self.x_deviations\n",
    "        #pass the x data into the first layer, the activation layer, and then the third layer and then output\n",
    "        x=self.linear1(x)\n",
    "        x=self.act1(x)\n",
    "        x=self.dropout(x)\n",
    "        y_pred=self.linear2(x)\n",
    "        return y_pred"
   ]
  },
  {
   "cell_type": "code",
   "execution_count": 333,
   "id": "06173ddc",
   "metadata": {},
   "outputs": [],
   "source": [
    "#Deep Learning Network\n",
    "#can have between 2-10 layers\n",
    "#Geoffrey Hinton coined the term deep learning\n",
    "\n",
    "#we will do 2 hidden layers for this\n",
    "class DL_Net(nn.Module):\n",
    "    # initialize the class\n",
    "    def __init__(self, x_means, x_deviations):\n",
    "        super().__init__() #initilizes the functions of the class being inherited\n",
    "        self.x_means=x_means\n",
    "        self.x_deviations=x_deviations\n",
    "        #self.linear1=nn.Linear(#feature value of each vector( 11), #num hidden layer columns (1) ) #defining the architecture\n",
    "        self.linear1=nn.Linear(11, 10)\n",
    "        self.act1=nn.ReLU() #the activation function between the layers\n",
    "        self.linear2=nn.Linear(10, 6)\n",
    "        self.act2=nn.ReLU()\n",
    "        self.linear3=nn.Linear(6, 1)\n",
    "        self.dropout=nn.Dropout(0.25)#drops out 25% of all connections so 6 paths instead of 8 and the connection that drops changes every\n",
    "        #dropout can be used to make a model better\n",
    "        #self.dropout=nn.Dropout(0.25)#drops out 25% of all connections so 6 paths instead of 8 and the connection that drops changes every iteration\n",
    "    #perform inference\n",
    "    def forward(self, x):\n",
    "        #standardization equation\n",
    "        x=(x - self.x_means)/self.x_deviations\n",
    "        #pass the x data into the first layer, the activation layer, and then the third layer and then output\n",
    "        x=self.linear1(x)\n",
    "        x=self.act1(x)\n",
    "        x=self.linear2(x)\n",
    "        x=self.act2(x)\n",
    "        x=self.dropout(x)\n",
    "        y_pred=self.linear3(x)\n",
    "        return y_pred"
   ]
  },
  {
   "cell_type": "code",
   "execution_count": 334,
   "id": "508aff65",
   "metadata": {},
   "outputs": [],
   "source": [
    "#Linear + Non-linear net\n",
    "#f1+f2 a linear model + a non-linear model and predict with it\n",
    "#the second function can be an MLP or DL\n",
    "##Homework assignment to mess around with this model to make the best model possible\n",
    "class LinPlusNonLin_Net(nn.Module):\n",
    "    # initialize the class\n",
    "    def __init__(self, x_means, x_deviations):\n",
    "        super().__init__() #initilizes the functions of the class being inherited\n",
    "        self.x_means=x_means\n",
    "        self.x_deviations=x_deviations\n",
    "        ##F1 linear network\n",
    "        self.f1_linear1=nn.Linear(11,1)\n",
    "        ##F2\n",
    "        self.f2_linear1=nn.Linear(11, 14)\n",
    "        self.f2_act1=nn.ReLU()\n",
    "        self.f2_linear2=nn.Linear(14, 8)\n",
    "        self.f2_act2=nn.Sigmoid()\n",
    "        self.f2_linear3=nn.Linear(8, 5)\n",
    "        self.f2_act3=nn.Sigmoid()\n",
    "        self.f2_linear4=nn.Linear(5, 1)\n",
    "    def forward(self, x):\n",
    "        #standardization equation\n",
    "        x=(x - self.x_means)/self.x_deviations\n",
    "        #pass the x data into the first layer, the activation layer, and then the third layer and then output\n",
    "        \n",
    "        ##F1\n",
    "        f1=self.f1_linear1(x)\n",
    "        \n",
    "        #F2\n",
    "        f2=self.f2_linear1(x)\n",
    "        f2=self.f2_act1(f2)\n",
    "        f2=self.f2_linear2(f2)\n",
    "        f2=self.f2_act2(f2)\n",
    "        f2=self.f2_linear3(f2)\n",
    "        f2=self.f2_act3(f2)\n",
    "        f2=self.f2_linear4(f2)\n",
    "        y_pred=f1+f2\n",
    "        return y_pred"
   ]
  },
  {
   "cell_type": "markdown",
   "id": "d4abe7e8",
   "metadata": {},
   "source": [
    "## Training Loop"
   ]
  },
  {
   "cell_type": "code",
   "execution_count": 335,
   "id": "49659530",
   "metadata": {},
   "outputs": [],
   "source": [
    "def training_loop(N_Epochs, model, loss_fn, opt):\n",
    "    for epoch in range(N_Epochs):\n",
    "        for xb, yb in train_dl:\n",
    "            y_pred=model(xb) #invoke inferefence function, xb is x bias\n",
    "            loss = loss_fn(y_pred, yb)#comparing the predicted to the real\n",
    "            #this is creating a computations graph in memory that is very connected\n",
    "            opt.zero_grad() #you have to zero out the weights because they accumulate for some reason without this\n",
    "            loss.backward()#this is the node that conencts everything in the computational graph\n",
    "            opt.step() #updates the weights, optimizer defines the step size, back propogation\n",
    "        #print the loss every 200 iterations\n",
    "        if epoch % 20 == 0:\n",
    "            print(epoch, \"loss=\", loss)\n",
    "            \n",
    "        "
   ]
  },
  {
   "cell_type": "code",
   "execution_count": 336,
   "id": "df6fbb92",
   "metadata": {},
   "outputs": [
    {
     "name": "stdout",
     "output_type": "stream",
     "text": [
      "0 loss= tensor(18.5197, grad_fn=<MseLossBackward0>)\n",
      "20 loss= tensor(0.3012, grad_fn=<MseLossBackward0>)\n",
      "40 loss= tensor(0.6159, grad_fn=<MseLossBackward0>)\n",
      "60 loss= tensor(0.6010, grad_fn=<MseLossBackward0>)\n",
      "80 loss= tensor(0.7462, grad_fn=<MseLossBackward0>)\n",
      "100 loss= tensor(0.1681, grad_fn=<MseLossBackward0>)\n",
      "120 loss= tensor(0.3410, grad_fn=<MseLossBackward0>)\n",
      "140 loss= tensor(0.1610, grad_fn=<MseLossBackward0>)\n",
      "160 loss= tensor(0.5311, grad_fn=<MseLossBackward0>)\n",
      "180 loss= tensor(0.4592, grad_fn=<MseLossBackward0>)\n",
      "200 loss= tensor(0.3345, grad_fn=<MseLossBackward0>)\n",
      "220 loss= tensor(0.4067, grad_fn=<MseLossBackward0>)\n",
      "240 loss= tensor(0.3204, grad_fn=<MseLossBackward0>)\n",
      "260 loss= tensor(0.4275, grad_fn=<MseLossBackward0>)\n",
      "280 loss= tensor(0.4184, grad_fn=<MseLossBackward0>)\n",
      "300 loss= tensor(0.5601, grad_fn=<MseLossBackward0>)\n",
      "320 loss= tensor(0.4902, grad_fn=<MseLossBackward0>)\n",
      "340 loss= tensor(0.1775, grad_fn=<MseLossBackward0>)\n",
      "360 loss= tensor(0.2740, grad_fn=<MseLossBackward0>)\n",
      "380 loss= tensor(0.3229, grad_fn=<MseLossBackward0>)\n",
      "400 loss= tensor(0.2587, grad_fn=<MseLossBackward0>)\n",
      "420 loss= tensor(0.4506, grad_fn=<MseLossBackward0>)\n",
      "440 loss= tensor(0.3737, grad_fn=<MseLossBackward0>)\n",
      "460 loss= tensor(0.3480, grad_fn=<MseLossBackward0>)\n",
      "480 loss= tensor(0.3566, grad_fn=<MseLossBackward0>)\n"
     ]
    }
   ],
   "source": [
    "\n",
    "#model=LinRegNet(x_means, x_deviations) #inference ?\n",
    "\n",
    "#model=MLP_Net(x_means, x_deviations)\n",
    "model=LinPlusNonLin_Net(x_means, x_deviations)\n",
    "opt = torch.optim.Adam(model.parameters(), lr=learning_rate) #optimizer\n",
    "# we want to minimize the loss value to make it better \n",
    "loss_fn = F.mse_loss #loss function\n",
    "\n",
    "training_loop(N_Epochs, model, loss_fn, opt)"
   ]
  },
  {
   "cell_type": "markdown",
   "id": "0772539a",
   "metadata": {},
   "source": [
    "## Build a Model"
   ]
  },
  {
   "cell_type": "code",
   "execution_count": null,
   "id": "19aaee70",
   "metadata": {},
   "outputs": [],
   "source": []
  },
  {
   "cell_type": "code",
   "execution_count": null,
   "id": "0c87c1dc",
   "metadata": {},
   "outputs": [],
   "source": []
  },
  {
   "cell_type": "markdown",
   "id": "23f241e2",
   "metadata": {},
   "source": [
    "## Evaluate Model"
   ]
  },
  {
   "cell_type": "code",
   "execution_count": 337,
   "id": "f7ac4f38",
   "metadata": {},
   "outputs": [],
   "source": [
    "#now that the model has been trained we need to test the model using the test set the evaluate how good the model is\n",
    "y_pred_test=model(X_test_tr)"
   ]
  },
  {
   "cell_type": "code",
   "execution_count": 338,
   "id": "a183d041",
   "metadata": {},
   "outputs": [
    {
     "data": {
      "text/plain": [
       "torch.Size([980, 1])"
      ]
     },
     "execution_count": 338,
     "metadata": {},
     "output_type": "execute_result"
    }
   ],
   "source": [
    "y_pred_test.shape"
   ]
  },
  {
   "cell_type": "code",
   "execution_count": 339,
   "id": "23849dfc",
   "metadata": {},
   "outputs": [
    {
     "name": "stdout",
     "output_type": "stream",
     "text": [
      "Testing R**2:  0.3156985014863275\n"
     ]
    }
   ],
   "source": [
    "#r2 is used to determine how good the model is\n",
    "#r2 score require numpy, the tensor need to be detached from the graph before using and turned into numpy\n",
    "#you want to maximize the r2, the larger the number the better it is\n",
    "print(\"Testing R**2: \", r2_score(y_test_tr.numpy(), y_pred_test.detach().numpy()))\n",
    "\n",
    "#standardization in this specific instance made the model better, and it usually will make this metric better\n",
    "#the higher this is, the better the prediction is, this is a way of comparing models and seeing which one will give you the best\n",
    "##results. This goes up to 1 and the higher the number is the better\n",
    "#Calix thinks that because some of the data is integers than this might make the model not as good, that is one thing we could change to maybe make it better"
   ]
  },
  {
   "cell_type": "code",
   "execution_count": 340,
   "id": "18fd382b",
   "metadata": {},
   "outputs": [],
   "source": [
    "#print(y_pred_test.shape)\n",
    "#print(y_test_tr.shape)"
   ]
  },
  {
   "cell_type": "code",
   "execution_count": 341,
   "id": "6c59c392",
   "metadata": {},
   "outputs": [],
   "source": [
    "list_preds=[]\n",
    "list_reals=[]\n",
    "for i in range(len(X_test_tr)):\n",
    "    #print(\"*********************************************************\")\n",
    "    #print(\"pred, real\")\n",
    "    np_real=y_test_tr[i].detach().numpy()\n",
    "    np_pred=y_pred_test[i].detach().numpy()\n",
    "    #print(np_pred[0], np_real[0])\n",
    "    list_preds.append(np_pred[0])\n",
    "    list_reals.append(np_real[0])"
   ]
  },
  {
   "cell_type": "markdown",
   "id": "15d3a441",
   "metadata": {},
   "source": [
    "## Deploy Pytorch Model"
   ]
  },
  {
   "cell_type": "code",
   "execution_count": 352,
   "id": "47bafd18",
   "metadata": {},
   "outputs": [
    {
     "name": "stdout",
     "output_type": "stream",
     "text": [
      "============== Diagnostic Run torch.onnx.export version 2.0.1+cpu ==============\n",
      "verbose: False, log level: Level.ERROR\n",
      "======================= 0 NONE 0 NOTE 0 WARNING 0 ERROR ========================\n",
      "\n"
     ]
    }
   ],
   "source": [
    "#set modelt o eval mode so it is no longer training\n",
    "model.eval()\n",
    "dummy_input=torch.randn(1, 11) #collect 11 values from 11 text boxes (row vector)\n",
    "#create values to reference when pulling data from onnx\n",
    "input_names=[\"input1\"]\n",
    "output_names=[\"output1\"]\n",
    "\n",
    "torch.onnx.export(\n",
    "    model, #pass model\n",
    "    dummy_input, #input, it knows how it will output\n",
    "    \"DLnet_WineData.onnx\", #name of the file\n",
    "    verbose=False,\n",
    "    input_names=input_names,\n",
    "    output_names=output_names\n",
    ")"
   ]
  },
  {
   "cell_type": "code",
   "execution_count": null,
   "id": "1d527751",
   "metadata": {},
   "outputs": [],
   "source": []
  },
  {
   "cell_type": "code",
   "execution_count": null,
   "id": "b45492aa",
   "metadata": {},
   "outputs": [],
   "source": []
  },
  {
   "cell_type": "markdown",
   "id": "0288fb9f",
   "metadata": {},
   "source": [
    "## XGBoost"
   ]
  },
  {
   "cell_type": "code",
   "execution_count": 342,
   "id": "573008b9",
   "metadata": {},
   "outputs": [],
   "source": [
    "regressor = xgb.XGBRegressor(\n",
    "    n_estimators=1000,\n",
    "    reg_lambda=1,\n",
    "    gamma=0,\n",
    "    max_depth=6\n",
    ")"
   ]
  },
  {
   "cell_type": "code",
   "execution_count": 343,
   "id": "6f252a24",
   "metadata": {},
   "outputs": [
    {
     "data": {
      "text/html": [
       "<style>#sk-container-id-29 {color: black;}#sk-container-id-29 pre{padding: 0;}#sk-container-id-29 div.sk-toggleable {background-color: white;}#sk-container-id-29 label.sk-toggleable__label {cursor: pointer;display: block;width: 100%;margin-bottom: 0;padding: 0.3em;box-sizing: border-box;text-align: center;}#sk-container-id-29 label.sk-toggleable__label-arrow:before {content: \"▸\";float: left;margin-right: 0.25em;color: #696969;}#sk-container-id-29 label.sk-toggleable__label-arrow:hover:before {color: black;}#sk-container-id-29 div.sk-estimator:hover label.sk-toggleable__label-arrow:before {color: black;}#sk-container-id-29 div.sk-toggleable__content {max-height: 0;max-width: 0;overflow: hidden;text-align: left;background-color: #f0f8ff;}#sk-container-id-29 div.sk-toggleable__content pre {margin: 0.2em;color: black;border-radius: 0.25em;background-color: #f0f8ff;}#sk-container-id-29 input.sk-toggleable__control:checked~div.sk-toggleable__content {max-height: 200px;max-width: 100%;overflow: auto;}#sk-container-id-29 input.sk-toggleable__control:checked~label.sk-toggleable__label-arrow:before {content: \"▾\";}#sk-container-id-29 div.sk-estimator input.sk-toggleable__control:checked~label.sk-toggleable__label {background-color: #d4ebff;}#sk-container-id-29 div.sk-label input.sk-toggleable__control:checked~label.sk-toggleable__label {background-color: #d4ebff;}#sk-container-id-29 input.sk-hidden--visually {border: 0;clip: rect(1px 1px 1px 1px);clip: rect(1px, 1px, 1px, 1px);height: 1px;margin: -1px;overflow: hidden;padding: 0;position: absolute;width: 1px;}#sk-container-id-29 div.sk-estimator {font-family: monospace;background-color: #f0f8ff;border: 1px dotted black;border-radius: 0.25em;box-sizing: border-box;margin-bottom: 0.5em;}#sk-container-id-29 div.sk-estimator:hover {background-color: #d4ebff;}#sk-container-id-29 div.sk-parallel-item::after {content: \"\";width: 100%;border-bottom: 1px solid gray;flex-grow: 1;}#sk-container-id-29 div.sk-label:hover label.sk-toggleable__label {background-color: #d4ebff;}#sk-container-id-29 div.sk-serial::before {content: \"\";position: absolute;border-left: 1px solid gray;box-sizing: border-box;top: 0;bottom: 0;left: 50%;z-index: 0;}#sk-container-id-29 div.sk-serial {display: flex;flex-direction: column;align-items: center;background-color: white;padding-right: 0.2em;padding-left: 0.2em;position: relative;}#sk-container-id-29 div.sk-item {position: relative;z-index: 1;}#sk-container-id-29 div.sk-parallel {display: flex;align-items: stretch;justify-content: center;background-color: white;position: relative;}#sk-container-id-29 div.sk-item::before, #sk-container-id-29 div.sk-parallel-item::before {content: \"\";position: absolute;border-left: 1px solid gray;box-sizing: border-box;top: 0;bottom: 0;left: 50%;z-index: -1;}#sk-container-id-29 div.sk-parallel-item {display: flex;flex-direction: column;z-index: 1;position: relative;background-color: white;}#sk-container-id-29 div.sk-parallel-item:first-child::after {align-self: flex-end;width: 50%;}#sk-container-id-29 div.sk-parallel-item:last-child::after {align-self: flex-start;width: 50%;}#sk-container-id-29 div.sk-parallel-item:only-child::after {width: 0;}#sk-container-id-29 div.sk-dashed-wrapped {border: 1px dashed gray;margin: 0 0.4em 0.5em 0.4em;box-sizing: border-box;padding-bottom: 0.4em;background-color: white;}#sk-container-id-29 div.sk-label label {font-family: monospace;font-weight: bold;display: inline-block;line-height: 1.2em;}#sk-container-id-29 div.sk-label-container {text-align: center;}#sk-container-id-29 div.sk-container {/* jupyter's `normalize.less` sets `[hidden] { display: none; }` but bootstrap.min.css set `[hidden] { display: none !important; }` so we also need the `!important` here to be able to override the default hidden behavior on the sphinx rendered scikit-learn.org. See: https://github.com/scikit-learn/scikit-learn/issues/21755 */display: inline-block !important;position: relative;}#sk-container-id-29 div.sk-text-repr-fallback {display: none;}</style><div id=\"sk-container-id-29\" class=\"sk-top-container\"><div class=\"sk-text-repr-fallback\"><pre>XGBRegressor(base_score=None, booster=None, callbacks=None,\n",
       "             colsample_bylevel=None, colsample_bynode=None,\n",
       "             colsample_bytree=None, device=None, early_stopping_rounds=None,\n",
       "             enable_categorical=False, eval_metric=None, feature_types=None,\n",
       "             gamma=0, grow_policy=None, importance_type=None,\n",
       "             interaction_constraints=None, learning_rate=None, max_bin=None,\n",
       "             max_cat_threshold=None, max_cat_to_onehot=None,\n",
       "             max_delta_step=None, max_depth=6, max_leaves=None,\n",
       "             min_child_weight=None, missing=nan, monotone_constraints=None,\n",
       "             multi_strategy=None, n_estimators=1000, n_jobs=None,\n",
       "             num_parallel_tree=None, random_state=None, ...)</pre><b>In a Jupyter environment, please rerun this cell to show the HTML representation or trust the notebook. <br />On GitHub, the HTML representation is unable to render, please try loading this page with nbviewer.org.</b></div><div class=\"sk-container\" hidden><div class=\"sk-item\"><div class=\"sk-estimator sk-toggleable\"><input class=\"sk-toggleable__control sk-hidden--visually\" id=\"sk-estimator-id-29\" type=\"checkbox\" checked><label for=\"sk-estimator-id-29\" class=\"sk-toggleable__label sk-toggleable__label-arrow\">XGBRegressor</label><div class=\"sk-toggleable__content\"><pre>XGBRegressor(base_score=None, booster=None, callbacks=None,\n",
       "             colsample_bylevel=None, colsample_bynode=None,\n",
       "             colsample_bytree=None, device=None, early_stopping_rounds=None,\n",
       "             enable_categorical=False, eval_metric=None, feature_types=None,\n",
       "             gamma=0, grow_policy=None, importance_type=None,\n",
       "             interaction_constraints=None, learning_rate=None, max_bin=None,\n",
       "             max_cat_threshold=None, max_cat_to_onehot=None,\n",
       "             max_delta_step=None, max_depth=6, max_leaves=None,\n",
       "             min_child_weight=None, missing=nan, monotone_constraints=None,\n",
       "             multi_strategy=None, n_estimators=1000, n_jobs=None,\n",
       "             num_parallel_tree=None, random_state=None, ...)</pre></div></div></div></div></div>"
      ],
      "text/plain": [
       "XGBRegressor(base_score=None, booster=None, callbacks=None,\n",
       "             colsample_bylevel=None, colsample_bynode=None,\n",
       "             colsample_bytree=None, device=None, early_stopping_rounds=None,\n",
       "             enable_categorical=False, eval_metric=None, feature_types=None,\n",
       "             gamma=0, grow_policy=None, importance_type=None,\n",
       "             interaction_constraints=None, learning_rate=None, max_bin=None,\n",
       "             max_cat_threshold=None, max_cat_to_onehot=None,\n",
       "             max_delta_step=None, max_depth=6, max_leaves=None,\n",
       "             min_child_weight=None, missing=nan, monotone_constraints=None,\n",
       "             multi_strategy=None, n_estimators=1000, n_jobs=None,\n",
       "             num_parallel_tree=None, random_state=None, ...)"
      ]
     },
     "execution_count": 343,
     "metadata": {},
     "output_type": "execute_result"
    }
   ],
   "source": [
    "regressor.fit(X_train, y_train)"
   ]
  },
  {
   "cell_type": "code",
   "execution_count": 344,
   "id": "62102912",
   "metadata": {},
   "outputs": [],
   "source": [
    "y_pred=regressor.predict(X_test)"
   ]
  },
  {
   "cell_type": "code",
   "execution_count": 345,
   "id": "5199b1bc",
   "metadata": {},
   "outputs": [],
   "source": [
    "#y_pred.shape\n",
    "#y_pred"
   ]
  },
  {
   "cell_type": "code",
   "execution_count": 346,
   "id": "b7556ffe",
   "metadata": {},
   "outputs": [
    {
     "data": {
      "text/plain": [
       "0.48917160108740654"
      ]
     },
     "execution_count": 346,
     "metadata": {},
     "output_type": "execute_result"
    }
   ],
   "source": [
    "r2_score(y_test, y_pred)"
   ]
  },
  {
   "cell_type": "markdown",
   "id": "01ba7771",
   "metadata": {},
   "source": [
    "## Random forest"
   ]
  },
  {
   "cell_type": "code",
   "execution_count": 347,
   "id": "118565f1",
   "metadata": {},
   "outputs": [
    {
     "name": "stderr",
     "output_type": "stream",
     "text": [
      "C:\\Users\\danda\\anaconda3\\Lib\\site-packages\\sklearn\\base.py:1151: DataConversionWarning: A column-vector y was passed when a 1d array was expected. Please change the shape of y to (n_samples,), for example using ravel().\n",
      "  return fit_method(estimator, *args, **kwargs)\n"
     ]
    }
   ],
   "source": [
    "random_forest = RandomForestRegressor(random_state = random_seed, max_depth = 200)\n",
    "random_forest.fit(X_train, y_train)\n",
    "y_pred = random_forest.predict(X_test)"
   ]
  },
  {
   "cell_type": "code",
   "execution_count": 348,
   "id": "fc086716",
   "metadata": {},
   "outputs": [
    {
     "data": {
      "text/plain": [
       "0.5158795397388721"
      ]
     },
     "execution_count": 348,
     "metadata": {},
     "output_type": "execute_result"
    }
   ],
   "source": [
    "r2_score(y_test, y_pred)"
   ]
  },
  {
   "cell_type": "code",
   "execution_count": null,
   "id": "609ec419",
   "metadata": {},
   "outputs": [],
   "source": []
  },
  {
   "cell_type": "markdown",
   "id": "49bf4fcb",
   "metadata": {},
   "source": [
    "## Visualize test Predictions"
   ]
  },
  {
   "cell_type": "code",
   "execution_count": null,
   "id": "e9323a84",
   "metadata": {},
   "outputs": [],
   "source": [
    "#visualize the difference between every prediction versus the real result\n",
    "def plot_preds_vs_reals(list_preds, list_reals):\n",
    "    plt.figure(figsize=(13, 4))\n",
    "    plt.plot(list_reals, label='real', color='r')\n",
    "    plt.plot(list_preds, label='pred')\n",
    "    plt.show()"
   ]
  },
  {
   "cell_type": "code",
   "execution_count": null,
   "id": "4ae1b412",
   "metadata": {},
   "outputs": [],
   "source": [
    "plot_preds_vs_reals(list_preds, list_reals)\n",
    "#in a perfect world you would only see one color, or at least there would not be a lot of difference between the two colors"
   ]
  },
  {
   "cell_type": "markdown",
   "id": "bd728e53",
   "metadata": {},
   "source": [
    "## Deploy Model\n",
    "* ONNX and Github"
   ]
  },
  {
   "cell_type": "code",
   "execution_count": null,
   "id": "e68e8943",
   "metadata": {},
   "outputs": [],
   "source": []
  },
  {
   "cell_type": "code",
   "execution_count": null,
   "id": "e4468819",
   "metadata": {},
   "outputs": [],
   "source": []
  },
  {
   "cell_type": "code",
   "execution_count": null,
   "id": "b7a86947",
   "metadata": {},
   "outputs": [],
   "source": []
  }
 ],
 "metadata": {
  "kernelspec": {
   "display_name": "Python 3 (ipykernel)",
   "language": "python",
   "name": "python3"
  },
  "language_info": {
   "codemirror_mode": {
    "name": "ipython",
    "version": 3
   },
   "file_extension": ".py",
   "mimetype": "text/x-python",
   "name": "python",
   "nbconvert_exporter": "python",
   "pygments_lexer": "ipython3",
   "version": "3.11.4"
  }
 },
 "nbformat": 4,
 "nbformat_minor": 5
}
